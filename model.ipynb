{
 "cells": [
  {
   "cell_type": "markdown",
   "id": "b98ad905",
   "metadata": {},
   "source": [
    "## Behavior-Informed Term Deposit Adoption Predictor: A Machine Learning Approach for Targeted Financial Marketing"
   ]
  },
  {
   "cell_type": "code",
   "execution_count": 2,
   "id": "b373c48b",
   "metadata": {},
   "outputs": [],
   "source": [
    "import pandas as pd\n",
    "import numpy as np\n",
    "import matplotlib.pyplot as plt\n",
    "import warnings\n",
    "warnings.filterwarnings(\"ignore\", category=FutureWarning)"
   ]
  },
  {
   "cell_type": "code",
   "execution_count": 3,
   "id": "db09bc8d",
   "metadata": {},
   "outputs": [
    {
     "data": {
      "application/vnd.microsoft.datawrangler.viewer.v0+json": {
       "columns": [
        {
         "name": "index",
         "rawType": "int64",
         "type": "integer"
        },
        {
         "name": "age",
         "rawType": "int64",
         "type": "integer"
        },
        {
         "name": "Gender",
         "rawType": "object",
         "type": "string"
        },
        {
         "name": "job",
         "rawType": "object",
         "type": "string"
        },
        {
         "name": "marital",
         "rawType": "object",
         "type": "string"
        },
        {
         "name": "education",
         "rawType": "object",
         "type": "string"
        },
        {
         "name": "Location",
         "rawType": "object",
         "type": "string"
        },
        {
         "name": "default",
         "rawType": "object",
         "type": "string"
        },
        {
         "name": "balance",
         "rawType": "int64",
         "type": "integer"
        },
        {
         "name": "housing",
         "rawType": "object",
         "type": "string"
        },
        {
         "name": "loan",
         "rawType": "object",
         "type": "string"
        },
        {
         "name": "contact",
         "rawType": "object",
         "type": "string"
        },
        {
         "name": "day",
         "rawType": "int64",
         "type": "integer"
        },
        {
         "name": "month",
         "rawType": "object",
         "type": "string"
        },
        {
         "name": "duration",
         "rawType": "int64",
         "type": "integer"
        },
        {
         "name": "campaign",
         "rawType": "int64",
         "type": "integer"
        },
        {
         "name": "pdays",
         "rawType": "int64",
         "type": "integer"
        },
        {
         "name": "previous",
         "rawType": "int64",
         "type": "integer"
        },
        {
         "name": "poutcome",
         "rawType": "object",
         "type": "string"
        },
        {
         "name": "y",
         "rawType": "object",
         "type": "string"
        },
        {
         "name": "age_group",
         "rawType": "object",
         "type": "string"
        },
        {
         "name": "balance_status",
         "rawType": "object",
         "type": "string"
        },
        {
         "name": "log_balance",
         "rawType": "float64",
         "type": "float"
        },
        {
         "name": "log_duration",
         "rawType": "float64",
         "type": "float"
        },
        {
         "name": "log_pdays",
         "rawType": "float64",
         "type": "float"
        },
        {
         "name": "log_campaign",
         "rawType": "float64",
         "type": "float"
        },
        {
         "name": "log_previous",
         "rawType": "float64",
         "type": "float"
        }
       ],
       "ref": "b19de880-f155-46de-8611-d7fe87b0ab41",
       "rows": [
        [
         "0",
         "58",
         "Female",
         "management",
         "married",
         "tertiary",
         "Suburban",
         "no",
         "2143",
         "yes",
         "no",
         "unknown",
         "5",
         "may",
         "261",
         "1",
         "-1",
         "0",
         "unknown",
         "no",
         "Adult",
         "Low",
         "7.67043",
         "5.56834",
         "-inf",
         "0.69315",
         "0.0"
        ],
        [
         "1",
         "44",
         "Male",
         "technician",
         "single",
         "secondary",
         "Urban",
         "no",
         "29",
         "yes",
         "no",
         "unknown",
         "5",
         "may",
         "151",
         "1",
         "-1",
         "0",
         "unknown",
         "no",
         "Adult",
         "Low",
         "3.4012",
         "5.02388",
         "-inf",
         "0.69315",
         "0.0"
        ],
        [
         "2",
         "33",
         "Female",
         "entrepreneur",
         "married",
         "secondary",
         "Suburban",
         "no",
         "2",
         "yes",
         "yes",
         "unknown",
         "5",
         "may",
         "76",
         "1",
         "-1",
         "0",
         "unknown",
         "no",
         "Adult",
         "Low",
         "1.09861",
         "4.34381",
         "-inf",
         "0.69315",
         "0.0"
        ]
       ],
       "shape": {
        "columns": 26,
        "rows": 3
       }
      },
      "text/html": [
       "<div>\n",
       "<style scoped>\n",
       "    .dataframe tbody tr th:only-of-type {\n",
       "        vertical-align: middle;\n",
       "    }\n",
       "\n",
       "    .dataframe tbody tr th {\n",
       "        vertical-align: top;\n",
       "    }\n",
       "\n",
       "    .dataframe thead th {\n",
       "        text-align: right;\n",
       "    }\n",
       "</style>\n",
       "<table border=\"1\" class=\"dataframe\">\n",
       "  <thead>\n",
       "    <tr style=\"text-align: right;\">\n",
       "      <th></th>\n",
       "      <th>age</th>\n",
       "      <th>Gender</th>\n",
       "      <th>job</th>\n",
       "      <th>marital</th>\n",
       "      <th>education</th>\n",
       "      <th>Location</th>\n",
       "      <th>default</th>\n",
       "      <th>balance</th>\n",
       "      <th>housing</th>\n",
       "      <th>loan</th>\n",
       "      <th>...</th>\n",
       "      <th>previous</th>\n",
       "      <th>poutcome</th>\n",
       "      <th>y</th>\n",
       "      <th>age_group</th>\n",
       "      <th>balance_status</th>\n",
       "      <th>log_balance</th>\n",
       "      <th>log_duration</th>\n",
       "      <th>log_pdays</th>\n",
       "      <th>log_campaign</th>\n",
       "      <th>log_previous</th>\n",
       "    </tr>\n",
       "  </thead>\n",
       "  <tbody>\n",
       "    <tr>\n",
       "      <th>0</th>\n",
       "      <td>58</td>\n",
       "      <td>Female</td>\n",
       "      <td>management</td>\n",
       "      <td>married</td>\n",
       "      <td>tertiary</td>\n",
       "      <td>Suburban</td>\n",
       "      <td>no</td>\n",
       "      <td>2143</td>\n",
       "      <td>yes</td>\n",
       "      <td>no</td>\n",
       "      <td>...</td>\n",
       "      <td>0</td>\n",
       "      <td>unknown</td>\n",
       "      <td>no</td>\n",
       "      <td>Adult</td>\n",
       "      <td>Low</td>\n",
       "      <td>7.67043</td>\n",
       "      <td>5.56834</td>\n",
       "      <td>-inf</td>\n",
       "      <td>0.69315</td>\n",
       "      <td>0.0</td>\n",
       "    </tr>\n",
       "    <tr>\n",
       "      <th>1</th>\n",
       "      <td>44</td>\n",
       "      <td>Male</td>\n",
       "      <td>technician</td>\n",
       "      <td>single</td>\n",
       "      <td>secondary</td>\n",
       "      <td>Urban</td>\n",
       "      <td>no</td>\n",
       "      <td>29</td>\n",
       "      <td>yes</td>\n",
       "      <td>no</td>\n",
       "      <td>...</td>\n",
       "      <td>0</td>\n",
       "      <td>unknown</td>\n",
       "      <td>no</td>\n",
       "      <td>Adult</td>\n",
       "      <td>Low</td>\n",
       "      <td>3.40120</td>\n",
       "      <td>5.02388</td>\n",
       "      <td>-inf</td>\n",
       "      <td>0.69315</td>\n",
       "      <td>0.0</td>\n",
       "    </tr>\n",
       "    <tr>\n",
       "      <th>2</th>\n",
       "      <td>33</td>\n",
       "      <td>Female</td>\n",
       "      <td>entrepreneur</td>\n",
       "      <td>married</td>\n",
       "      <td>secondary</td>\n",
       "      <td>Suburban</td>\n",
       "      <td>no</td>\n",
       "      <td>2</td>\n",
       "      <td>yes</td>\n",
       "      <td>yes</td>\n",
       "      <td>...</td>\n",
       "      <td>0</td>\n",
       "      <td>unknown</td>\n",
       "      <td>no</td>\n",
       "      <td>Adult</td>\n",
       "      <td>Low</td>\n",
       "      <td>1.09861</td>\n",
       "      <td>4.34381</td>\n",
       "      <td>-inf</td>\n",
       "      <td>0.69315</td>\n",
       "      <td>0.0</td>\n",
       "    </tr>\n",
       "  </tbody>\n",
       "</table>\n",
       "<p>3 rows × 26 columns</p>\n",
       "</div>"
      ],
      "text/plain": [
       "   age  Gender           job  marital  education  Location default  balance  \\\n",
       "0   58  Female    management  married   tertiary  Suburban      no     2143   \n",
       "1   44    Male    technician   single  secondary     Urban      no       29   \n",
       "2   33  Female  entrepreneur  married  secondary  Suburban      no        2   \n",
       "\n",
       "  housing loan  ... previous  poutcome   y  age_group  balance_status  \\\n",
       "0     yes   no  ...        0   unknown  no      Adult             Low   \n",
       "1     yes   no  ...        0   unknown  no      Adult             Low   \n",
       "2     yes  yes  ...        0   unknown  no      Adult             Low   \n",
       "\n",
       "   log_balance  log_duration log_pdays log_campaign log_previous  \n",
       "0      7.67043       5.56834      -inf      0.69315          0.0  \n",
       "1      3.40120       5.02388      -inf      0.69315          0.0  \n",
       "2      1.09861       4.34381      -inf      0.69315          0.0  \n",
       "\n",
       "[3 rows x 26 columns]"
      ]
     },
     "execution_count": 3,
     "metadata": {},
     "output_type": "execute_result"
    }
   ],
   "source": [
    "bk = pd.read_csv('bank_m.csv')\n",
    "bk.head(3)"
   ]
  },
  {
   "cell_type": "code",
   "execution_count": 4,
   "id": "79cbf1c8",
   "metadata": {},
   "outputs": [],
   "source": [
    "bk = bk.drop(columns=['Gender', 'Location', 'duration', 'log_duration', 'log_balance', 'log_pdays', 'log_campaign', 'log_previous'])"
   ]
  },
  {
   "cell_type": "code",
   "execution_count": 5,
   "id": "fbfd84e3",
   "metadata": {},
   "outputs": [],
   "source": [
    "binary_cols = ['default', 'housing', 'loan', 'y']\n",
    "for col in binary_cols:\n",
    "    bk[col] = bk[col].map({'yes': 1, 'no': 0})\n",
    "\n",
    "education_order = {'unknown': 0, 'primary': 1, 'secondary': 2, 'tertiary': 3}\n",
    "bk['education'] = bk['education'].map(education_order)\n",
    "\n",
    "bk['contact'] = bk['contact'].map({'unknown': 0, 'telephone': 1, 'cellular': 2})\n",
    "\n",
    "bk['month'] = bk['month'].map({\n",
    "    'jan': 1, 'feb': 2, 'mar': 3, 'apr': 4, 'may': 5,\n",
    "    'jun': 6, 'jul': 7, 'aug': 8, 'sep': 9, 'oct': 10,\n",
    "    'nov': 11, 'dec': 12\n",
    "})\n",
    "\n",
    "bk['poutcome'] = bk['poutcome'].map({\n",
    "    'unknown': 0, 'other': 1, 'failure': 2, 'success': 3\n",
    "})\n",
    "\n",
    "bk = pd.get_dummies(bk, drop_first=True)"
   ]
  },
  {
   "cell_type": "code",
   "execution_count": 6,
   "id": "7d8aad00",
   "metadata": {},
   "outputs": [],
   "source": [
    "from sklearn.model_selection import train_test_split\n",
    "from sklearn.preprocessing import StandardScaler\n",
    "from imblearn.over_sampling import SMOTE\n",
    "from sklearn.linear_model import LogisticRegression\n",
    "from sklearn.metrics import classification_report, roc_auc_score, roc_curve, accuracy_score\n",
    "from sklearn.ensemble import RandomForestClassifier\n",
    "from xgboost import XGBClassifier\n",
    "#import pickle"
   ]
  },
  {
   "cell_type": "code",
   "execution_count": 7,
   "id": "dc0295fc",
   "metadata": {},
   "outputs": [],
   "source": [
    "x = bk.drop(columns=['y'])\n",
    "y = bk['y']\n",
    "\n",
    "x_train_valid, x_test, y_train_valid, y_test = train_test_split(\n",
    "    x, y, test_size=0.2, random_state=42, stratify=y\n",
    ")\n",
    "\n",
    "x_train, x_valid, y_train, y_valid = train_test_split(\n",
    "    x_train_valid, y_train_valid, test_size=0.25, random_state=42, stratify=y_train_valid\n",
    ")"
   ]
  },
  {
   "cell_type": "code",
   "execution_count": 8,
   "id": "90b5dc39",
   "metadata": {},
   "outputs": [],
   "source": [
    "scaler = StandardScaler()\n",
    "x_train_scaled = scaler.fit_transform(x_train)\n",
    "x_valid_scaled = scaler.transform(x_valid)\n",
    "x_test_scaled = scaler.transform(x_test)\n",
    "\n",
    "smote = SMOTE(random_state=42)\n",
    "x_train_os, y_train_os = smote.fit_resample(x_train_scaled, y_train)"
   ]
  },
  {
   "cell_type": "code",
   "execution_count": 9,
   "id": "b1978839",
   "metadata": {},
   "outputs": [
    {
     "name": "stdout",
     "output_type": "stream",
     "text": [
      "Baseline Accuracy: 0.8830\n",
      "Baseline ROC AUC: 0.5\n"
     ]
    }
   ],
   "source": [
    "majority_class = y_train_os.mode()[0]\n",
    "y_pred_baseline = np.full_like(y_valid, fill_value=majority_class)\n",
    "\n",
    "y_proba_baseline = np.full_like(y_valid, fill_value=majority_class, dtype=float)\n",
    "\n",
    "acc_baseline = accuracy_score(y_valid, y_pred_baseline)\n",
    "try:\n",
    "    roc_auc_baseline = roc_auc_score(y_valid, y_proba_baseline)\n",
    "except ValueError:\n",
    "    roc_auc_baseline = np.nan  \n",
    "\n",
    "print(f\"Baseline Accuracy: {acc_baseline:.4f}\")\n",
    "print(f\"Baseline ROC AUC: {roc_auc_baseline}\")"
   ]
  },
  {
   "cell_type": "code",
   "execution_count": 10,
   "id": "b52da8c1",
   "metadata": {},
   "outputs": [
    {
     "name": "stdout",
     "output_type": "stream",
     "text": [
      "              precision    recall  f1-score   support\n",
      "\n",
      "           0       0.94      0.70      0.80      7984\n",
      "           1       0.22      0.65      0.33      1058\n",
      "\n",
      "    accuracy                           0.69      9042\n",
      "   macro avg       0.58      0.68      0.57      9042\n",
      "weighted avg       0.85      0.69      0.75      9042\n",
      "\n",
      "Validation ROC AUC: 0.7480799263934296\n"
     ]
    }
   ],
   "source": [
    "lr_model = LogisticRegression(random_state=42, max_iter=1000)\n",
    "lr_model.fit(x_train_os, y_train_os)\n",
    "\n",
    "y_pred_lr = lr_model.predict(x_valid_scaled)\n",
    "y_proba_lr = lr_model.predict_proba(x_valid_scaled)[:,1]\n",
    "\n",
    "print(classification_report(y_valid, y_pred_lr))\n",
    "print(\"Validation ROC AUC:\", roc_auc_score(y_valid, y_proba_lr))"
   ]
  },
  {
   "cell_type": "code",
   "execution_count": 11,
   "id": "c72568b4",
   "metadata": {},
   "outputs": [
    {
     "name": "stdout",
     "output_type": "stream",
     "text": [
      "Validation Classification Report:\n",
      "               precision    recall  f1-score   support\n",
      "\n",
      "           0       0.92      0.96      0.94      7984\n",
      "           1       0.54      0.34      0.42      1058\n",
      "\n",
      "    accuracy                           0.89      9042\n",
      "   macro avg       0.73      0.65      0.68      9042\n",
      "weighted avg       0.87      0.89      0.88      9042\n",
      "\n",
      "Validation ROC AUC: 0.7862195326380549\n"
     ]
    }
   ],
   "source": [
    "rf_model = RandomForestClassifier(class_weight = 'balanced', random_state=42, n_estimators=200)\n",
    "rf_model.fit(x_train_os, y_train_os)\n",
    "\n",
    "y_pred_rf = rf_model.predict(x_valid_scaled)\n",
    "y_proba_rf = rf_model.predict_proba(x_valid_scaled)[:,1]\n",
    "\n",
    "print(\"Validation Classification Report:\\n\", classification_report(y_valid, y_pred_rf))\n",
    "print(\"Validation ROC AUC:\", roc_auc_score(y_valid, y_proba_rf))"
   ]
  },
  {
   "cell_type": "code",
   "execution_count": 12,
   "id": "6809022d",
   "metadata": {},
   "outputs": [
    {
     "name": "stdout",
     "output_type": "stream",
     "text": [
      "Validation Classification Report:\n",
      "               precision    recall  f1-score   support\n",
      "\n",
      "           0       0.91      0.97      0.94      7984\n",
      "           1       0.58      0.32      0.41      1058\n",
      "\n",
      "    accuracy                           0.89      9042\n",
      "   macro avg       0.75      0.64      0.68      9042\n",
      "weighted avg       0.88      0.89      0.88      9042\n",
      "\n",
      "Validation ROC AUC: 0.7833770092169215\n"
     ]
    }
   ],
   "source": [
    "xgb_model = XGBClassifier(random_state=42, n_estimators=200)\n",
    "xgb_model.fit(x_train_os, y_train_os)   \n",
    "\n",
    "y_pred_xgb = xgb_model.predict(x_valid_scaled)\n",
    "y_proba_xgb = xgb_model.predict_proba(x_valid_scaled)[:,1]\n",
    "\n",
    "print(\"Validation Classification Report:\\n\", classification_report(y_valid, y_pred_xgb))\n",
    "print(\"Validation ROC AUC:\", roc_auc_score(y_valid, y_proba_xgb))"
   ]
  },
  {
   "cell_type": "code",
   "execution_count": 13,
   "id": "b478e101",
   "metadata": {},
   "outputs": [
    {
     "name": "stdout",
     "output_type": "stream",
     "text": [
      "                 Model  Accuracy   ROC AUC\n",
      "0  Logistic Regression  0.693984  0.748080\n",
      "1        Random Forest  0.888852  0.786220\n",
      "2              XGBoost  0.893608  0.783377\n",
      "\n",
      "Best model based on ROC AUC: Random Forest\n"
     ]
    }
   ],
   "source": [
    "metrics = []\n",
    "\n",
    "models = {\n",
    "    'Logistic Regression': (lr_model, y_pred_lr, y_proba_lr),\n",
    "    'Random Forest': (rf_model, y_pred_rf, y_proba_rf),\n",
    "    'XGBoost': (xgb_model, y_pred_xgb, y_proba_xgb)\n",
    "}\n",
    "\n",
    "for name, (model, y_pred, y_proba) in models.items():\n",
    "    acc = accuracy_score(y_valid, y_pred)\n",
    "    roc_auc = roc_auc_score(y_valid, y_proba)\n",
    "    metrics.append({'Model': name, 'Accuracy': acc, 'ROC AUC': roc_auc})\n",
    "\n",
    "metrics_df = pd.DataFrame(metrics)\n",
    "print(metrics_df)\n",
    "\n",
    "best_model_name = metrics_df.sort_values(by='ROC AUC', ascending=False).iloc[0]['Model']\n",
    "print(f\"\\nBest model based on ROC AUC: {best_model_name}\")\n",
    "\n",
    "best_model = models[best_model_name][0]\n",
    "# open('rf_model.pkl', 'wb') as f:\n",
    "   # pickle.dump(best_model, f)\n",
    "#with open('scaler.pkl', 'wb') as f:\n",
    "   # pickle.dump(scaler, f) \n"
   ]
  },
  {
   "cell_type": "code",
   "execution_count": 14,
   "id": "9995e335",
   "metadata": {},
   "outputs": [
    {
     "data": {
      "image/png": "[encoded data removed]",
      "text/plain": [
       "<Figure size 640x480 with 1 Axes>"
      ]
     },
     "metadata": {},
     "output_type": "display_data"
    }
   ],
   "source": [
    "feature_importance = pd.Series(model.feature_importances_, index=x_train.columns)\n",
    "feature_importance.sort_values(ascending=False).head(15).plot(kind='bar', color='teal')\n",
    "plt.title(\"Top 15 Important Features\")\n",
    "plt.show()"
   ]
  },
  {
   "cell_type": "code",
   "execution_count": 15,
   "id": "a3e5bd6c",
   "metadata": {},
   "outputs": [
    {
     "name": "stdout",
     "output_type": "stream",
     "text": [
      "Test Classification Report:\n",
      "               precision    recall  f1-score   support\n",
      "\n",
      "           0       0.91      0.96      0.94      7985\n",
      "           1       0.54      0.32      0.40      1058\n",
      "\n",
      "    accuracy                           0.89      9043\n",
      "   macro avg       0.73      0.64      0.67      9043\n",
      "weighted avg       0.87      0.89      0.88      9043\n",
      "\n",
      "Test ROC AUC: 0.782092841847841\n"
     ]
    },
    {
     "data": {
      "image/png": "[encoded data removed]",
      "text/plain": [
       "<Figure size 640x480 with 1 Axes>"
      ]
     },
     "metadata": {},
     "output_type": "display_data"
    }
   ],
   "source": [
    "y_test_pred = rf_model.predict(x_test_scaled)\n",
    "y_test_proba = rf_model.predict_proba(x_test_scaled)[:,1]\n",
    "\n",
    "print(\"Test Classification Report:\\n\", classification_report(y_test, y_test_pred))\n",
    "print(\"Test ROC AUC:\", roc_auc_score(y_test, y_test_proba))\n",
    "\n",
    "fpr, tpr, _ = roc_curve(y_test, y_test_proba)\n",
    "plt.plot(fpr, tpr, label=f\"Random Forest (AUC = {roc_auc_score(y_test, y_test_proba):.2f})\")\n",
    "plt.plot([0,1], [0,1], 'k--')\n",
    "plt.xlabel('False Positive Rate')\n",
    "plt.ylabel('True Positive Rate')\n",
    "plt.title('ROC Curve on Test Set')\n",
    "plt.legend()\n",
    "plt.grid(True)\n",
    "plt.show()"
   ]
  },
  {
   "cell_type": "code",
   "execution_count": 17,
   "id": "6a7d36df",
   "metadata": {},
   "outputs": [],
   "source": [
    "results = x_test.copy()\n",
    "results['Actual'] = y_test.values\n",
    "results['Predicted'] = y_test_pred\n",
    "results['Probability'] = y_test_proba\n",
    "\n",
    "results.to_csv(\"model_predictions.csv\", index=False)"
   ]
  },
  {
   "cell_type": "markdown",
   "id": "be967b6f",
   "metadata": {},
   "source": [
    "## Final Conclusion\n",
    "In this project, we built a machine learning pipeline to predict customer adoption of investment products (term deposits) using demographic, financial, and interactional data, guided by the Theory of Planned Behavior.\n",
    "\n",
    "Our workflow included:\n",
    "Rigorous data preprocessing (encoding, scaling, handling class imbalance using SMOTE).\n",
    "Structured feature engineering to transform raw data into meaningful inputs.\n",
    "Training and evaluating multiple models: Logistic Regression, Random Forest, and XGBoost.\n",
    "\n",
    "Among the models, the Random Forest classifier achieved the best ROC-AUC score, highlighting its ability to capture non-linear relationships and feature interactions. Feature importance analysis identified previous campaign outcome, customer balance, and contact duration as top predictors — aligning with behavioral cues like perceived value and intent.\n",
    "\n",
    "## Business Implications\n",
    "Insights from the model can be used to prioritize high-probability leads for investment outreach.\n",
    "Marketing teams can personalize campaigns based on influential features such as job type, education, and contact history.\n",
    "Predictive modeling facilitates data-driven decision-making, reducing marketing costs and improving conversion rates.\n",
    "\n",
    "## Future Work\n",
    "Refine model performance with ensemble stacking or advanced boosting techniques.\n",
    "Incorporate additional behavioral signals (e.g., website interaction, social media sentiment).\n",
    "Deploy the model with real-time dashboards for live scoring and actionable alerts.\n",
    "Conduct A/B tests to validate uplift in marketing conversion rates."
   ]
  }
 ],
 "metadata": {
  "kernelspec": {
   "display_name": "Python 3",
   "language": "python",
   "name": "python3"
  },
  "language_info": {
   "codemirror_mode": {
    "name": "ipython",
    "version": 3
   },
   "file_extension": ".py",
   "mimetype": "text/x-python",
   "name": "python",
   "nbconvert_exporter": "python",
   "pygments_lexer": "ipython3",
   "version": "3.12.3"
  }
 },
 "nbformat": 4,
 "nbformat_minor": 5
}
